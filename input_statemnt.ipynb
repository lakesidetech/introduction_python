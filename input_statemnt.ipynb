{
  "nbformat": 4,
  "nbformat_minor": 0,
  "metadata": {
    "colab": {
      "name": "input_statemnt.ipynb",
      "provenance": [],
      "collapsed_sections": [],
      "authorship_tag": "ABX9TyOaoq0aRJZbcR2/Zbjjzdpo",
      "include_colab_link": true
    },
    "kernelspec": {
      "name": "python3",
      "display_name": "Python 3"
    },
    "language_info": {
      "name": "python"
    }
  },
  "cells": [
    {
      "cell_type": "markdown",
      "metadata": {
        "id": "view-in-github",
        "colab_type": "text"
      },
      "source": [
        "<a href=\"https://colab.research.google.com/github/lakesidetech/introduction_python/blob/main/input_statemnt.ipynb\" target=\"_parent\"><img src=\"https://colab.research.google.com/assets/colab-badge.svg\" alt=\"Open In Colab\"/></a>"
      ]
    },
    {
      "cell_type": "code",
      "metadata": {
        "colab": {
          "base_uri": "https://localhost:8080/"
        },
        "id": "pni2OFZL4w6t",
        "outputId": "ae931862-c605-41b2-fb0c-6c28d9beb618"
      },
      "source": [
        "#Enter first and last name\n",
        "names = input(\"Enter first and last name\")\n",
        "print(names)\n",
        "print()\n",
        "#Enter your goals for this class\n",
        "\n",
        "print(\"What are your goals for this class - long term goals?\")\n",
        "\n",
        "goals = input('What would you like to be....when all is said and done with the class?')\n",
        "\n",
        "print(goals)\n",
        "\n",
        "\n"
      ],
      "execution_count": 3,
      "outputs": [
        {
          "output_type": "stream",
          "text": [
            "Enter first and last nameAnne \n",
            "Anne \n",
            "\n",
            "What are your goals for this class - long term goals?\n",
            "What would you like to be....when all is said and done with the class?Data scientist\n",
            "Data scientist\n"
          ],
          "name": "stdout"
        }
      ]
    }
  ]
}