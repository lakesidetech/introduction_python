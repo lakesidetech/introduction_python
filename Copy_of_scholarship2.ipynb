{
  "nbformat": 4,
  "nbformat_minor": 0,
  "metadata": {
    "colab": {
      "name": "Copy_of_scholarship2.ipynb",
      "provenance": [],
      "collapsed_sections": [],
      "include_colab_link": true
    },
    "kernelspec": {
      "display_name": "Python 3",
      "name": "python3"
    },
    "language_info": {
      "name": "python"
    }
  },
  "cells": [
    {
      "cell_type": "markdown",
      "metadata": {
        "id": "view-in-github",
        "colab_type": "text"
      },
      "source": [
        "<a href=\"https://colab.research.google.com/github/lakesidetech/introduction_python/blob/main/Copy_of_scholarship2.ipynb\" target=\"_parent\"><img src=\"https://colab.research.google.com/assets/colab-badge.svg\" alt=\"Open In Colab\"/></a>"
      ]
    },
    {
      "cell_type": "code",
      "metadata": {
        "colab": {
          "base_uri": "https://localhost:8080/"
        },
        "id": "FXm0TrBYOVT9",
        "outputId": "15159256-0955-4156-c1a6-f6c617adede6"
      },
      "source": [
        "#def student():\n",
        "\n",
        "def tests():\n",
        " # Python program to perform Addition of zoom scores\n",
        "    Test1 = int(input(\"Enter First test : \"))\n",
        "    Test2 = int(input(\"Enter Second test : \"))\n",
        "    \n",
        "\n",
        "    print(\"Enter any of between [0-100] for a each call:\")\n",
        "    if Test1>=0 and Test1<=100 and (Test2>=0 and Test2<=100): \n",
        "       result4 = Test1 + Test2\n",
        "       print(\"Total tests score!\")\n",
        "       print(Test1, Test2, \":\", result4)\n",
        "\n",
        "    else:\n",
        "        result4=0\n",
        "    return result4\n",
        "\n",
        "def quizes():\n",
        " # Python program to perform Addition of zoom scores\n",
        "    quizes1 = int(input(\"Enter First quiz : \"))\n",
        "    quizes2 = int(input(\"Enter Second quiz : \"))\n",
        "    quizes3 = int(input(\"Enter 3rd quiz : \"))\n",
        "\n",
        "    print(\"Enter any of between [0-100] for a each quiz:\")\n",
        "    if quizes1>=0 and quizes1<=100 and (quizes2>=0 and quizes2<=100) and (quizes3>=0 and quizes3<=100): \n",
        "       result3 = quizes1 + quizes2 +quizes3\n",
        "       print(\"Total quizes score!\")\n",
        "       print(quizes1, quizes2 , quizes3, \":\", result3)\n",
        "\n",
        "    else:\n",
        "        result3=0\n",
        "    return result3\n",
        "\n",
        "def homework():\n",
        "    # Python program to perform Addition of zoom scores\n",
        "    homework1 = int(input(\"Enter First homework : \"))\n",
        "    homework2 = int(input(\"Enter Second homework : \"))\n",
        "    homework3 = int(input(\"Enter 3rd homework : \"))\n",
        "\n",
        "    print(\"Enter any of between [0-10] for a each call:\")\n",
        "    if homework1>=0 and homework1<=10 and (homework2>=0 and homework2<=10) and (homework3>=0 and homework3<=10): \n",
        "       result1 = homework1 + homework2 +homework3\n",
        "       print(\"Total homework score!\")\n",
        "       print(homework1, homework2 , homework3, \":\", result1)\n",
        "\n",
        "    else:\n",
        "        result1=0\n",
        "    return result1\n",
        "\n",
        "\n",
        "def zoomcalls():\n",
        "    # Python program to perform Addition of zoom scores\n",
        "    zoom1 = int(input(\"Enter First Zoon Call: \"))\n",
        "    zoom2 = int(input(\"Enter Second Zoon Call: \"))\n",
        "    zoom3 = int(input(\"Enter 3rd Zoon Call: \"))\n",
        "\n",
        "    print(\"Enter any of between [0-9] for a each call:\")\n",
        "    if zoom1>=0 and zoom1<=9 and (zoom2>=0 and zoom2<=9) and (zoom3>=0 and zoom3<=9): \n",
        "       result = zoom1 + zoom2 +zoom3\n",
        "       print(\"Total zoom score!\")\n",
        "       print(zoom1, zoom2 , zoom3, \":\", result)\n",
        "\n",
        "    else:\n",
        "        result=0\n",
        "    return result\n",
        "def main():\n",
        "    result4=tests() \n",
        "    result3=quizes() \n",
        "    result=zoomcalls()\n",
        "    result1=homework()\n",
        "    average=((result4)+(result3))/5\n",
        "    sum=result+result1\n",
        "    print(\"total homeworks and zooms :\",sum)\n",
        "    print(\"average tests and quizes:\",average)\n",
        "    if average>=50:\n",
        "       print(\"qualified\")\n",
        "    else:\n",
        "        print('unqualfied')\n",
        "    return average\n",
        "    \n",
        "    \n",
        "main()"
      ],
      "execution_count": null,
      "outputs": [
        {
          "output_type": "stream",
          "text": [
            "Enter First test : 45\n",
            "Enter Second test : 60\n",
            "Enter any of between [0-100] for a each call:\n",
            "Total tests score!\n",
            "45 60 : 105\n",
            "Enter First quiz : 90\n",
            "Enter Second quiz : 78\n",
            "Enter 3rd quiz : 90\n",
            "Enter any of between [0-100] for a each quiz:\n",
            "Total quizes score!\n",
            "90 78 90 : 258\n",
            "Enter First Zoon Call: 2\n",
            "Enter Second Zoon Call: 3\n",
            "Enter 3rd Zoon Call: 3\n",
            "Enter any of between [0-9] for a each call:\n",
            "Total zoom score!\n",
            "2 3 3 : 8\n",
            "Enter First homework : 3\n",
            "Enter Second homework : 3\n",
            "Enter 3rd homework : 3\n",
            "Enter any of between [0-10] for a each call:\n",
            "Total homework score!\n",
            "3 3 3 : 9\n",
            "total homeworks and zooms : 17\n",
            "average tests and quizes: 72.6\n",
            "qualified\n"
          ],
          "name": "stdout"
        },
        {
          "output_type": "execute_result",
          "data": {
            "text/plain": [
              "72.6"
            ]
          },
          "metadata": {
            "tags": []
          },
          "execution_count": 2
        }
      ]
    }
  ]
}