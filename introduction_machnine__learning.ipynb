{
  "nbformat": 4,
  "nbformat_minor": 0,
  "metadata": {
    "colab": {
      "name": "introduction_machnine _learning.ipynb",
      "provenance": [],
      "authorship_tag": "ABX9TyNSiB8x9/w2bhjNu6kQ2NXc",
      "include_colab_link": true
    },
    "kernelspec": {
      "name": "python3",
      "display_name": "Python 3"
    },
    "language_info": {
      "name": "python"
    }
  },
  "cells": [
    {
      "cell_type": "markdown",
      "metadata": {
        "id": "view-in-github",
        "colab_type": "text"
      },
      "source": [
        "<a href=\"https://colab.research.google.com/github/lakesidetech/introduction_python/blob/main/introduction_machnine__learning.ipynb\" target=\"_parent\"><img src=\"https://colab.research.google.com/assets/colab-badge.svg\" alt=\"Open In Colab\"/></a>"
      ]
    },
    {
      "cell_type": "code",
      "metadata": {
        "colab": {
          "base_uri": "https://localhost:8080/"
        },
        "id": "qIr_Th8a4Cu8",
        "outputId": "1072f1b7-04cb-4633-cc30-6b7207fcc8f6"
      },
      "source": [
        "#The Mean, Median, and Mode are techniques that are often used in Machine Learning\n",
        "import numpy as np\n",
        "speed=[50,70,60,80,45,60,50,65,80,56]\n",
        "# mean of the array\n",
        "s=np.mean(speed)\n",
        "print(s)\n"
      ],
      "execution_count": 12,
      "outputs": [
        {
          "output_type": "stream",
          "text": [
            "61.6\n"
          ],
          "name": "stdout"
        }
      ]
    },
    {
      "cell_type": "code",
      "metadata": {
        "colab": {
          "base_uri": "https://localhost:8080/"
        },
        "id": "__J0bNe05K6T",
        "outputId": "8f54c81d-7686-4c4d-e236-6cded94e57ce"
      },
      "source": [
        "#median speed - mid point value\n",
        "s=np.median(speed)\n",
        "print(s)"
      ],
      "execution_count": 11,
      "outputs": [
        {
          "output_type": "stream",
          "text": [
            "60.0\n"
          ],
          "name": "stdout"
        }
      ]
    }
  ]
}