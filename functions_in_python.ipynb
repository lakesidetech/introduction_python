{
  "nbformat": 4,
  "nbformat_minor": 0,
  "metadata": {
    "colab": {
      "name": "functions_in_python.ipynb",
      "provenance": [],
      "authorship_tag": "ABX9TyMyR/hQCVn7ZJqIdCXGB0LK",
      "include_colab_link": true
    },
    "kernelspec": {
      "name": "python3",
      "display_name": "Python 3"
    },
    "language_info": {
      "name": "python"
    }
  },
  "cells": [
    {
      "cell_type": "markdown",
      "metadata": {
        "id": "view-in-github",
        "colab_type": "text"
      },
      "source": [
        "<a href=\"https://colab.research.google.com/github/lakesidetech/introduction_python/blob/main/functions_in_python.ipynb\" target=\"_parent\"><img src=\"https://colab.research.google.com/assets/colab-badge.svg\" alt=\"Open In Colab\"/></a>"
      ]
    },
    {
      "cell_type": "code",
      "metadata": {
        "colab": {
          "base_uri": "https://localhost:8080/"
        },
        "id": "Jc8-al0G9BRf",
        "outputId": "e5e37cc9-b5dc-4fc8-edfa-a36948049570"
      },
      "source": [
        "#define the function called greetings\n",
        "#\n",
        "def greetings(name):\n",
        "  \"the function displays greetings\"\n",
        "  print(\"Hello, \" + name + \". Good morning!\")\n",
        "\n",
        "#briefly used to explain what a function does\n",
        "print(greetings.__doc__)\n",
        "print()\n",
        "#call the function greetings\n",
        "greetings('Ruth')"
      ],
      "execution_count": 5,
      "outputs": [
        {
          "output_type": "stream",
          "text": [
            "the function displays greetings\n",
            "\n",
            "Hello, Ruth. Good morning!\n"
          ],
          "name": "stdout"
        }
      ]
    },
    {
      "cell_type": "code",
      "metadata": {
        "id": "D8BtkvgZ-VMT",
        "outputId": "43cdb87c-5894-4951-f06f-0b15c406635c",
        "colab": {
          "base_uri": "https://localhost:8080/"
        }
      },
      "source": [
        "print(greetings.__doc__)"
      ],
      "execution_count": 3,
      "outputs": [
        {
          "output_type": "stream",
          "text": [
            "the function displays greetings\n"
          ],
          "name": "stdout"
        }
      ]
    },
    {
      "cell_type": "code",
      "metadata": {
        "id": "UPFBDW9kAZeg",
        "outputId": "241e6734-4003-4cef-8b49-e6d958ebcc59",
        "colab": {
          "base_uri": "https://localhost:8080/"
        }
      },
      "source": [
        "def my_func():\n",
        "  #local variable x\n",
        "\tx = 50\n",
        "\tprint(\"Value inside function:\",x)\n",
        " \n",
        "#global variable x\n",
        "x = 20\n",
        "my_func()\n",
        "print(\"Value outside function:\",x)"
      ],
      "execution_count": 7,
      "outputs": [
        {
          "output_type": "stream",
          "text": [
            "Value inside function: 50\n",
            "Value outside function: 20\n"
          ],
          "name": "stdout"
        }
      ]
    }
  ]
}