{
  "nbformat": 4,
  "nbformat_minor": 0,
  "metadata": {
    "colab": {
      "name": "menus.ipynb",
      "provenance": [],
      "authorship_tag": "ABX9TyPy/99zTQT4NMv4u9BUMpHx",
      "include_colab_link": true
    },
    "kernelspec": {
      "name": "python3",
      "display_name": "Python 3"
    },
    "language_info": {
      "name": "python"
    }
  },
  "cells": [
    {
      "cell_type": "markdown",
      "metadata": {
        "id": "view-in-github",
        "colab_type": "text"
      },
      "source": [
        "<a href=\"https://colab.research.google.com/github/lakesidetech/introduction_python/blob/main/menus.ipynb\" target=\"_parent\"><img src=\"https://colab.research.google.com/assets/colab-badge.svg\" alt=\"Open In Colab\"/></a>"
      ]
    },
    {
      "cell_type": "code",
      "metadata": {
        "id": "ULiUG8LSgzoT"
      },
      "source": [
        "## Text menu in Python\n",
        "      \n",
        "def print_menu():       ## Your menu design here\n",
        "    print( 30 * \"-\" , \"MENU\" , 30 * \"-\")\n",
        "    print(\"[P] Print Options\")\n",
        "    print(\"[C] convert from celsius\")\n",
        "    print(\"[F] Covert from Fahrenheit\")\n",
        "    print(\"[M] Convert from Miles\")\n",
        "    print(\"[KM] Convert from Kilometers\")\n",
        "    print(\"[In] Convert from Inches\")\n",
        "    print(\"[CM] Convert from centimeters\")\n",
        "    print(\"[Q] Exit\")\n",
        "    print (67 * \"-\")\n",
        "loop=True      \n",
        "  \n",
        "while loop:          ## While loop which will keep going until loop = False\n",
        "    print_menu()    ## Displays menu\n",
        "    choice = int(input(\"Enter your choice [1-5]: \"))\n",
        "     \n",
        "    if choice==1:     \n",
        "        print (\"Menu 1 has been selected\")\n",
        "        ## You can add your code or functions here\n",
        "    elif choice==2:\n",
        "        print (\"Menu 2 has been selected\")\n",
        "        ## You can add your code or functions here\n",
        "    elif choice==3:\n",
        "        print (\"Menu 3 has been selected\")\n",
        "        ## You can add your code or functions here\n",
        "    elif choice==4:\n",
        "        print (\"Menu 4 has been selected\")\n",
        "        ## You can add your code or functions here\n",
        "    elif choice==5:\n",
        "        print (\"Menu 5 has been selected\")\n",
        "        ## You can add your code or functions here\n",
        "        loop=False # This will make the while loop to end as not value of loop is set to False\n",
        "    else:\n",
        "        # Any integer inputs other than values 1-5 we print an error message\n",
        "        x=int(input(\"Wrong option selection. Enter any key to try again..\"))"
      ],
      "execution_count": null,
      "outputs": []
    }
  ]
}