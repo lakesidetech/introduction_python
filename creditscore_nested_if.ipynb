{
  "nbformat": 4,
  "nbformat_minor": 0,
  "metadata": {
    "colab": {
      "name": "creditscore_nested_if.ipynb",
      "provenance": [],
      "collapsed_sections": [],
      "authorship_tag": "ABX9TyMU+vtgBfXrgfleXgrWneKD",
      "include_colab_link": true
    },
    "kernelspec": {
      "display_name": "Python 3",
      "name": "python3"
    },
    "language_info": {
      "name": "python"
    }
  },
  "cells": [
    {
      "cell_type": "markdown",
      "metadata": {
        "id": "view-in-github",
        "colab_type": "text"
      },
      "source": [
        "<a href=\"https://colab.research.google.com/github/lakesidetech/introduction_python/blob/main/creditscore_nested_if.ipynb\" target=\"_parent\"><img src=\"https://colab.research.google.com/assets/colab-badge.svg\" alt=\"Open In Colab\"/></a>"
      ]
    },
    {
      "cell_type": "code",
      "metadata": {
        "colab": {
          "base_uri": "https://localhost:8080/"
        },
        "id": "Ege6Wz0srqux",
        "outputId": "9f7cb299-837f-4ac1-f44f-6de6e5d3264b"
      },
      "source": [
        "\n",
        "#ASSIGNMENT #4: YOU HAVE BEEN HIRED FINALLY BY THE 21 Century as a Senior Programmer and you've been tasked to help\n",
        "#in revamping their credit rating system and loan issuing system. Just remember, your job is to make things happen.\n",
        "#As a Sr. Developer in Python Programming, all the lights and attention are turned towards you and there is a job to be\n",
        "#done to deliver this critical system on time.\n",
        "\n",
        "#Your job is to design a simple program to allow the loan officer(s) to enter the customer particulars at the terminal and\n",
        "#determine if a customer is credit worthy. \n",
        "\n",
        "#Based on their looan officer's entry, your system is required to get the best desired resired as shown below in the OUTPUT.\n",
        "\n",
        "#Please design a program to do the input entry, do the desired calculations and come up with the needed requirements and output them as needed.\n",
        "#Please consider all the needed variable. If you need to add any, please do add if need is there. Good luck.\n",
        "\n",
        "\n",
        "#Enter the price of the House you wish to Buy\n",
        "print(\"Enter the house price\")\n",
        "price = input()\n",
        "\n",
        "#Enter the first name\n",
        "print(\"Enter the first name\")\n",
        "first_name = input()\n",
        "\n",
        "#Enter the last name\n",
        "print(\"Enter the last name\")\n",
        "last_name = input()\n",
        "\n",
        "fullname = first_name + \" \" + last_name\n",
        "\n",
        "#Enter the email\n",
        "print(\"Enter the email address\")\n",
        "email = input()\n",
        "\n",
        "#Enter the phone number\n",
        "print(\"Enter the phone number\")\n",
        "phone = input()\n",
        "\n",
        "#Enter the mailing\n",
        "print(\"Enter the mailing address\")\n",
        "input()\n",
        "\n",
        "#Enter the mailing\n",
        "print(\"Enter the City\")\n",
        "city = input()\n",
        "\n",
        "#Enter the mailing\n",
        "print(\"Enter the zip code\")\n",
        "zipcode = input()\n",
        "\n",
        "#Enter the creditscore\n",
        "print(\"Enter the credit score\")\n",
        "CreditScore=int(input(\"What is your credit score?\"))\n",
        " \n",
        "price=1000\n",
        "\n",
        "#Qualify for loans with the best interest rates\n",
        "if ((CreditScore>=850) and (CreditScore<=780)):\n",
        "   print (\"Excent Credit\")\n",
        "   print(\"Zero Down Payment\")\n",
        "   downPayment = 0.10 * price\n",
        "\n",
        "#Usually qualify for loans with the best interest rates\n",
        "elif ((CreditScore >= 779) and (CreditScore<=740 )):\n",
        "     print(\"Very Good\")\n",
        "     downPayment = 0.1 * price\n",
        "\n",
        "#May face slightly higher loan Interest rates\n",
        "elif ((CreditScore >= 720) and (CreditScore<= 739)):\n",
        "     print(\"Above Average\")\n",
        "     downPayment = 0.3 * price\n",
        "\n",
        "#May qualify for most loans of higher interest rates\n",
        "elif ((CreditScore >= 680) and (CreditScore<= 719)):\n",
        "     print(\"Average\")\n",
        "     downPayment = 0.6 * price\n",
        "\n",
        "#May qualify for most loans at significant higher Interest rates\n",
        "elif ((CreditScore >= 620) and (CreditScore<=679)):\n",
        "     print(\"Below Average\")\n",
        "     downPayment = 0.18 * price\n",
        "\n",
        "#Usually has some credit issues; will probably not qualify for most loans\n",
        "elif ((CreditScore >= 580) and (CreditScore<=619)):\n",
        "     print(\"Poor Credit Score\")\n",
        "     downPayment = 0.20 * price\n",
        "\n",
        "#Facing extreme credit issue\n",
        "else:\n",
        "    print(\"Poor Credit Score\")\n",
        "    downPayment = 0.25 * price\n"
      ],
      "execution_count": null,
      "outputs": [
        {
          "output_type": "stream",
          "text": [
            "Enter the house price\n",
            "45000\n",
            "Enter the first name\n",
            "Joram\n",
            "Enter the last name\n",
            "Kerry\n",
            "Enter the email address\n",
            "j@gmail.com\n",
            "Enter the phone number\n",
            "4059595\n",
            "Enter the mailing address\n",
            "59595\n",
            "Enter the City\n",
            "Vancouver\n",
            "Enter the zip code\n",
            "99595\n",
            "Enter the credit score\n",
            "What is your credit score?679\n",
            "Below Average\n"
          ],
          "name": "stdout"
        }
      ]
    }
  ]
}