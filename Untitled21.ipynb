{
  "nbformat": 4,
  "nbformat_minor": 0,
  "metadata": {
    "colab": {
      "name": "Untitled21.ipynb",
      "provenance": [],
      "authorship_tag": "ABX9TyPfPaFlNzDqIYygDAqQU0aR",
      "include_colab_link": true
    },
    "kernelspec": {
      "name": "python3",
      "display_name": "Python 3"
    },
    "language_info": {
      "name": "python"
    }
  },
  "cells": [
    {
      "cell_type": "markdown",
      "metadata": {
        "id": "view-in-github",
        "colab_type": "text"
      },
      "source": [
        "<a href=\"https://colab.research.google.com/github/lakesidetech/introduction_python/blob/main/Untitled21.ipynb\" target=\"_parent\"><img src=\"https://colab.research.google.com/assets/colab-badge.svg\" alt=\"Open In Colab\"/></a>"
      ]
    },
    {
      "cell_type": "code",
      "metadata": {
        "id": "n7CvqTtv6pmA",
        "colab": {
          "base_uri": "https://localhost:8080/",
          "height": 128
        },
        "outputId": "6ef776e6-f334-4226-90b9-832b0c4e106f"
      },
      "source": [
        "menu_options = ''\n",
        "# Deposit, Withdraw, Balance = 0, 0, 0#initializing the variable to zero\n",
        "\n",
        "Deposit = Withdraw = Balance = 0\n",
        "\n",
        "while menu_options != 'Q':  # exclamation mark + = means [not equal to]\n",
        "\n",
        "    menu_options = input(\"Choose your menu [D, W, B, Q]: \")\n",
        "\n",
        "    if menu_options == \"D\":\n",
        "        Deposit = float(input('Enter Amount to be deposited: '))\n",
        "\n",
        "        print(\"$\" + str(Deposit) + \" has been deposited successfully!!!!\")\n",
        "\n",
        "    elif menu_options == \"W\":\n",
        "        Withdraw = float(input('Enter Amount to be withdrawn: '))\n",
        "\n",
        "        print(\"$\" + str(Withdraw) + \" has been withdrawn successfully!!!!\")\n",
        "\n",
        "    elif menu_options == \"B\":\n",
        "        Balance = float(Deposit - Withdraw)\n",
        "\n",
        "        print(\"Your account balance is \" + \"$\" + str(Balance…"
      ],
      "execution_count": null,
      "outputs": [
        {
          "output_type": "error",
          "ename": "SyntaxError",
          "evalue": "ignored",
          "traceback": [
            "\u001b[0;36m  File \u001b[0;32m\"<ipython-input-1-5cb1452b16e3>\"\u001b[0;36m, line \u001b[0;32m23\u001b[0m\n\u001b[0;31m    print(\"Your account balance is \" + \"$\" + str(Balance…\u001b[0m\n\u001b[0m                                                        ^\u001b[0m\n\u001b[0;31mSyntaxError\u001b[0m\u001b[0;31m:\u001b[0m invalid character in identifier\n"
          ]
        }
      ]
    },
    {
      "cell_type": "code",
      "metadata": {
        "id": "uK6OQaVC8soI"
      },
      "source": [
        "menu_options = ''\n",
        "# celcius, fahrenheight,miles\n",
        "\n",
        "while menu_options != 'Q':  # exclamation mark + = means [not equal to]\n",
        "\n",
        "    menu_options = input(\"Choose your menu [F, C, M, Q]: \")\n",
        "\n",
        "    if menu_options == \"F\":\n",
        "        C = float(input('Enter temprature in Celcius to be converted to F: '))\n",
        "        F=(C*9/5)+32\n",
        "\n",
        "        print(\"Degrees\" + str(F) + \" has been converted successfully!!!!\")\n",
        "\n",
        "    else:\n",
        "       menu_options == \"C\":\n",
        "       F = float(input('Enter temprature in Farenheit to be celcius: '))\n",
        "        C=(9/5)*(F-32)\n",
        "\n",
        "\n",
        "        print(\"Degrees\" + str(C) + \" has been converted successfully!!!!\")\n",
        "\n",
        "   \n",
        "        print(\"Your account balance is \" + \"$\" + str(Balance…"
      ],
      "execution_count": null,
      "outputs": []
    }
  ]
}